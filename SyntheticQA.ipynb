{
 "cells": [
  {
   "cell_type": "markdown",
   "metadata": {},
   "source": [
    "# Synthetic QA data generation\n",
    "\n",
    "Experiments:\n",
    "\n",
    "* Single question\n",
    "    * [noise] [1 word answer] [noise], limited number of possible answer words, no intersection with noise in dict\n",
    "    * [noise] [key word] [1 word answer] [noise], limited number of possible answer words\n",
    "    * [noise] [key word] [1 - 3 words] [noise], limited number of possible answer words\n",
    "    * [noise] [many key words] [1 word answer] [noise], any word is possible answer\n",
    "    * [noise] [key word] [many answer words] [stop word] [noise], any answer words\n",
    "    * [noise] [many key words] [many answer words] [many stop words] [noise], any answer words\n",
    "    * [noise] [many key words] [many answer words] [many stop words] [noise], any answer words, keywords should be properly ordered\n",
    "    * [noise] [many key words] [many answer words] [many stop words] [noise], any answer words, some words should be replaced\n",
    "    * [noise] [many key words] [many answer words] [many stop words] [noise], any answer words, some words should be replaced and real answer words should be reordered\n",
    "* All previous + multiple questions"
   ]
  },
  {
   "cell_type": "code",
   "execution_count": 1,
   "metadata": {},
   "outputs": [],
   "source": [
    "import numpy as np\n",
    "import random\n",
    "import string\n",
    "import math"
   ]
  },
  {
   "cell_type": "code",
   "execution_count": 2,
   "metadata": {},
   "outputs": [],
   "source": [
    "def gen_word(word_length):\n",
    "    word_len = np.random.randint(*word_length)\n",
    "    return ''.join(random.sample(string.ascii_lowercase, word_len))"
   ]
  },
  {
   "cell_type": "code",
   "execution_count": 3,
   "metadata": {},
   "outputs": [],
   "source": [
    "def sentence_generator(\n",
    "    noise_size=(1,2),\n",
    "    noise_dict=None,\n",
    "    keyword_size=(1,2),\n",
    "    keyword_dict=None,\n",
    "    answer_size=(1,2),\n",
    "    answer_dict=None,\n",
    "    answer_mapping_foo=None,\n",
    "    stop_word_size=(0,1),\n",
    "    stop_word_dict=None,\n",
    "):\n",
    "    noise_start = random.choices(noise_dict, k=random.randint(*noise_size))\n",
    "    noise_end = random.choices(noise_dict, k=random.randint(*noise_size))\n",
    "    \n",
    "    keywords = random.choices(keyword_dict, k=random.randint(*keyword_size))\n",
    "    stopwords = random.choices(stop_word_dict, k=random.randint(*stop_word_size))\n",
    "    \n",
    "    answer_text = random.choices(answer_dict, k=random.randint(*answer_size))\n",
    "    \n",
    "    if answer_mapping_foo:\n",
    "        answer = answer_mapping_foo(answer_text)\n",
    "    else:\n",
    "        answer = answer_text\n",
    "    \n",
    "    \n",
    "    return noise_start + keywords + answer_text + stopwords + noise_end, answer"
   ]
  },
  {
   "cell_type": "code",
   "execution_count": 50,
   "metadata": {},
   "outputs": [],
   "source": []
  },
  {
   "cell_type": "code",
   "execution_count": 52,
   "metadata": {},
   "outputs": [
    {
     "data": {
      "text/plain": [
       "(['fkg', 'dzn', 'vra', 'bsmz', 'dpg', 'ovj', 'dzn', 'jsw', 'zob'], ['bsmz'])"
      ]
     },
     "execution_count": 52,
     "metadata": {},
     "output_type": "execute_result"
    }
   ],
   "source": [
    "noise_dict = [gen_word([3, 4]) for _ in range(100)]\n",
    "answer_dict = [gen_word([4, 5]) for _ in range(10)]\n",
    "\n",
    "sentence_generator(\n",
    "    noise_size=(1,6),\n",
    "    noise_dict=noise_dict, \n",
    "    keyword_size=(0,0),\n",
    "    keyword_dict=[],\n",
    "    answer_size=(1,1),\n",
    "    answer_dict=answer_dict,\n",
    "    stop_word_size=(0,0),\n",
    "    stop_word_dict=[]\n",
    ")"
   ]
  },
  {
   "cell_type": "code",
   "execution_count": 55,
   "metadata": {},
   "outputs": [
    {
     "data": {
      "text/plain": [
       "(['cpm', 'start', 'kog', 'alh', 'feu'], ['kog'])"
      ]
     },
     "execution_count": 55,
     "metadata": {},
     "output_type": "execute_result"
    }
   ],
   "source": [
    "keyword_dict = ['key', 'start', 'begin', 'init', 'here']\n",
    "noise_dict = [gen_word([3, 4]) for _ in range(100)]\n",
    "answer_dict = random.sample(noise_dict, 10)\n",
    "\n",
    "sentence_generator(\n",
    "    noise_size=(1,6),\n",
    "    noise_dict=noise_dict, \n",
    "    keyword_size=(1,1),\n",
    "    keyword_dict=keyword_dict,\n",
    "    answer_size=(1,1),\n",
    "    answer_dict=answer_dict,\n",
    "    stop_word_size=(0,0),\n",
    "    stop_word_dict=[]\n",
    ")"
   ]
  },
  {
   "cell_type": "code",
   "execution_count": 58,
   "metadata": {},
   "outputs": [
    {
     "data": {
      "text/plain": [
       "(['ldo', 'jfq', 'start', 'nvy', 'xuk', 'xgf', 'mbc', 'dpi'], ['nvy', 'xuk'])"
      ]
     },
     "execution_count": 58,
     "metadata": {},
     "output_type": "execute_result"
    }
   ],
   "source": [
    "keyword_dict = ['key', 'start', 'begin', 'init', 'here']\n",
    "noise_dict = [gen_word([3, 4]) for _ in range(100)]\n",
    "answer_dict = random.sample(noise_dict, 10)\n",
    "\n",
    "sentence_generator(\n",
    "    noise_size=(1,4),\n",
    "    noise_dict=noise_dict, \n",
    "    keyword_size=(1,1),\n",
    "    keyword_dict=keyword_dict,\n",
    "    answer_size=(1,3),\n",
    "    answer_dict=answer_dict,\n",
    "    stop_word_size=(0,0),\n",
    "    stop_word_dict=[]\n",
    ")"
   ]
  },
  {
   "cell_type": "code",
   "execution_count": 74,
   "metadata": {},
   "outputs": [
    {
     "data": {
      "text/plain": [
       "(['usr', 'init', 'epz', 'ejt', 'jfd'], ['epz'])"
      ]
     },
     "execution_count": 74,
     "metadata": {},
     "output_type": "execute_result"
    }
   ],
   "source": [
    "keyword_dict = ['key', 'start', 'begin', 'init', 'here']\n",
    "noise_dict = [gen_word([3, 4]) for _ in range(100)]\n",
    "\n",
    "sentence_generator(\n",
    "    noise_size=(1,4),\n",
    "    noise_dict=noise_dict, \n",
    "    keyword_size=(1,1),\n",
    "    keyword_dict=keyword_dict,\n",
    "    answer_size=(1,1),\n",
    "    answer_dict=noise_dict,\n",
    "    stop_word_size=(0,0),\n",
    "    stop_word_dict=[]\n",
    ")"
   ]
  },
  {
   "cell_type": "code",
   "execution_count": 90,
   "metadata": {},
   "outputs": [
    {
     "data": {
      "text/plain": [
       "(['via',\n",
       "  'mtj',\n",
       "  'qiu',\n",
       "  'osf',\n",
       "  'here',\n",
       "  'evh',\n",
       "  'yvg',\n",
       "  'bxl',\n",
       "  'tbw',\n",
       "  'end',\n",
       "  'pea'],\n",
       " ['evh', 'yvg', 'bxl', 'tbw'])"
      ]
     },
     "execution_count": 90,
     "metadata": {},
     "output_type": "execute_result"
    }
   ],
   "source": [
    "keyword_dict = ['key', 'start', 'begin', 'init', 'here']\n",
    "stop_word_dict = ['stop', 'end', 'exit', 'finish']\n",
    "noise_dict = [gen_word([3, 4]) for _ in range(100)]\n",
    "\n",
    "sentence_generator(\n",
    "    noise_size=(1,4),\n",
    "    noise_dict=noise_dict, \n",
    "    keyword_size=(1,1),\n",
    "    keyword_dict=keyword_dict,\n",
    "    answer_size=(1,4),\n",
    "    answer_dict=noise_dict,\n",
    "    stop_word_size=(1,1),\n",
    "    stop_word_dict=stop_word_dict\n",
    ")"
   ]
  },
  {
   "cell_type": "code",
   "execution_count": 91,
   "metadata": {},
   "outputs": [
    {
     "data": {
      "text/plain": [
       "(['oln',\n",
       "  'rpl',\n",
       "  'mzy',\n",
       "  'dib',\n",
       "  'dqg',\n",
       "  'bdf',\n",
       "  'hxp',\n",
       "  'ika',\n",
       "  'rzb',\n",
       "  'lkw',\n",
       "  'atv',\n",
       "  'exp',\n",
       "  'pfa',\n",
       "  'fsw'],\n",
       " ['dqg', 'bdf', 'hxp', 'ika'])"
      ]
     },
     "execution_count": 91,
     "metadata": {},
     "output_type": "execute_result"
    }
   ],
   "source": [
    "noise_dict = [gen_word([3, 4]) for _ in range(100)]\n",
    "\n",
    "keyword_dict = random.sample(noise_dict, 10)\n",
    "stopword_dict = random.sample(noise_dict, 10)\n",
    "\n",
    "\n",
    "sentence_generator(\n",
    "    noise_size=(1,4),\n",
    "    noise_dict=noise_dict, \n",
    "    keyword_size=(2,2),\n",
    "    keyword_dict=keyword_dict,\n",
    "    answer_size=(1,4),\n",
    "    answer_dict=noise_dict,\n",
    "    stop_word_size=(2,2),\n",
    "    stop_word_dict=stopword_dict\n",
    ")"
   ]
  },
  {
   "cell_type": "code",
   "execution_count": 95,
   "metadata": {},
   "outputs": [
    {
     "data": {
      "text/plain": [
       "(['hdp', 'twz njd', 'nib', 'wpf', 'qdy', 'uac', 'gln blz', 'frg', 'qdy'],\n",
       " ['nib', 'wpf', 'qdy', 'uac'])"
      ]
     },
     "execution_count": 95,
     "metadata": {},
     "output_type": "execute_result"
    }
   ],
   "source": [
    "noise_dict = [gen_word([3, 4]) for _ in range(100)]\n",
    "\n",
    "keyword_subwords = random.sample(noise_dict, 10)\n",
    "keyword_dict = list(map(\" \".join, zip(keyword_subwords[1::2], keyword_subwords[::2])))\n",
    "\n",
    "stopword_subwords = random.sample(noise_dict, 10)\n",
    "stopword_dict = list(map(\" \".join, zip(stopword_subwords[1::2], stopword_subwords[::2])))\n",
    "\n",
    "\n",
    "sentence_generator(\n",
    "    noise_size=(1,4),\n",
    "    noise_dict=noise_dict, \n",
    "    keyword_size=(1,1),\n",
    "    keyword_dict=keyword_dict,\n",
    "    answer_size=(1,4),\n",
    "    answer_dict=noise_dict,\n",
    "    stop_word_size=(1,1),\n",
    "    stop_word_dict=stopword_dict\n",
    ")"
   ]
  },
  {
   "cell_type": "code",
   "execution_count": 102,
   "metadata": {},
   "outputs": [
    {
     "data": {
      "text/plain": [
       "(['cgn', 'fzr', 'fny', 'sqv', 'wac gzo', 'tlr', 'akc', 'jmb jeb', 'wac'],\n",
       " ['rut', 'tlr'])"
      ]
     },
     "execution_count": 102,
     "metadata": {},
     "output_type": "execute_result"
    }
   ],
   "source": [
    "noise_dict = [gen_word([3, 4]) for _ in range(100)]\n",
    "\n",
    "keyword_subwords = random.sample(noise_dict, 10)\n",
    "keyword_dict = list(map(\" \".join, zip(keyword_subwords[1::2], keyword_subwords[::2])))\n",
    "\n",
    "stopword_subwords = random.sample(noise_dict, 10)\n",
    "stopword_dict = list(map(\" \".join, zip(stopword_subwords[1::2], stopword_subwords[::2])))\n",
    "\n",
    "answ_dict = random.sample(noise_dict, 20)\n",
    "repl_map = dict(zip(random.sample(answ_dict, 20), random.sample(answ_dict, 20)))\n",
    "\n",
    "def answer_mapping_foo(answer):\n",
    "    return list(map(lambda x: repl_map[x], answer))\n",
    "\n",
    "sentence_generator(\n",
    "    noise_size=(1,4),\n",
    "    noise_dict=noise_dict, \n",
    "    keyword_size=(1,1),\n",
    "    keyword_dict=keyword_dict,\n",
    "    answer_size=(1,4),\n",
    "    answer_dict=answ_dict,\n",
    "    stop_word_size=(1,1),\n",
    "    stop_word_dict=stopword_dict,\n",
    "    answer_mapping_foo=answer_mapping_foo\n",
    ")"
   ]
  },
  {
   "cell_type": "code",
   "execution_count": 104,
   "metadata": {},
   "outputs": [
    {
     "data": {
      "text/plain": [
       "(['iqj',\n",
       "  'gzf',\n",
       "  'rsi',\n",
       "  'udi',\n",
       "  'sjt uvl',\n",
       "  'ins',\n",
       "  'hte',\n",
       "  'oyj',\n",
       "  'ins',\n",
       "  'yfg rma',\n",
       "  'kfa',\n",
       "  'uhd',\n",
       "  'wtf',\n",
       "  'mkt'],\n",
       " ['ins', 'ins', 'jtx', 'voc'])"
      ]
     },
     "execution_count": 104,
     "metadata": {},
     "output_type": "execute_result"
    }
   ],
   "source": [
    "noise_dict = [gen_word([3, 4]) for _ in range(100)]\n",
    "\n",
    "keyword_subwords = random.sample(noise_dict, 10)\n",
    "keyword_dict = list(map(\" \".join, zip(keyword_subwords[1::2], keyword_subwords[::2])))\n",
    "\n",
    "stopword_subwords = random.sample(noise_dict, 10)\n",
    "stopword_dict = list(map(\" \".join, zip(stopword_subwords[1::2], stopword_subwords[::2])))\n",
    "\n",
    "answ_dict = random.sample(noise_dict, 20)\n",
    "repl_map = dict(zip(random.sample(answ_dict, 20), random.sample(answ_dict, 20)))\n",
    "\n",
    "def answer_mapping_foo(answer):\n",
    "    return sorted(list(map(lambda x: repl_map[x], answer)))\n",
    "\n",
    "sentence_generator(\n",
    "    noise_size=(1,4),\n",
    "    noise_dict=noise_dict, \n",
    "    keyword_size=(1,1),\n",
    "    keyword_dict=keyword_dict,\n",
    "    answer_size=(1,4),\n",
    "    answer_dict=answ_dict,\n",
    "    stop_word_size=(1,1),\n",
    "    stop_word_dict=stopword_dict,\n",
    "    answer_mapping_foo=answer_mapping_foo\n",
    ")"
   ]
  },
  {
   "cell_type": "code",
   "execution_count": null,
   "metadata": {},
   "outputs": [],
   "source": [
    "noise_dict = [gen_word([3, 4]) for _ in range(30)]\n",
    "\n",
    "\n",
    "def g1():\n",
    "    return sentence_generator(\n",
    "        noise_size=(0,4),\n",
    "        noise_dict=noise_dict, \n",
    "        keyword_size=(1,1),\n",
    "        keyword_dict=['ans1'],\n",
    "        answer_size=(1,1),\n",
    "        answer_dict=noise_dict,\n",
    "        stop_word_size=(0,0),\n",
    "        stop_word_dict=[]\n",
    "    )\n",
    "\n",
    "def g2():\n",
    "    return sentence_generator(\n",
    "        noise_size=(0,4),\n",
    "        noise_dict=noise_dict, \n",
    "        keyword_size=(1,1),\n",
    "        keyword_dict=['ans2'],\n",
    "        answer_size=(2,2),\n",
    "        answer_dict=noise_dict,\n",
    "        stop_word_size=(0,0),\n",
    "        stop_word_dict=[]\n",
    "    )\n",
    "\n",
    "def g3():\n",
    "    return sentence_generator(\n",
    "        noise_size=(0,4),\n",
    "        noise_dict=noise_dict, \n",
    "        keyword_size=(1,1),\n",
    "        keyword_dict=['ans3'],\n",
    "        answer_size=(3,3),\n",
    "        answer_dict=noise_dict,\n",
    "        stop_word_size=(0,0),\n",
    "        stop_word_dict=[]\n",
    "    )\n",
    "\n",
    "\n",
    "with open('./data/train.txt', 'w') as out:\n",
    "    for i in range(5000):\n",
    "        p, a = random.choice([g1, g2, g3])()\n",
    "        out.write(f\"{' '.join(p)}\\t{' '.join(a)}\\n\")\n",
    "                      \n",
    "with open('./data/test.txt', 'w') as out:\n",
    "    for i in range(100):\n",
    "        p, a = random.choice([g1, g2, g3])()\n",
    "        out.write(f\"{' '.join(p)}\\t{' '.join(a)}\\n\")"
   ]
  }
 ],
 "metadata": {
  "kernelspec": {
   "display_name": "Python 3",
   "language": "python",
   "name": "python3"
  },
  "language_info": {
   "codemirror_mode": {
    "name": "ipython",
    "version": 3
   },
   "file_extension": ".py",
   "mimetype": "text/x-python",
   "name": "python",
   "nbconvert_exporter": "python",
   "pygments_lexer": "ipython3",
   "version": "3.6.4"
  }
 },
 "nbformat": 4,
 "nbformat_minor": 2
}
